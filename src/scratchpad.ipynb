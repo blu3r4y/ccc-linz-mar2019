{
 "cells": [
  {
   "cell_type": "code",
   "execution_count": 37,
   "metadata": {},
   "outputs": [],
   "source": [
    "import json\n",
    "from pprint import pprint\n",
    "\n",
    "filename = r\"..\\data\\level1\\level1_1.in\"\n",
    "\n",
    "def parse(lines): \n",
    "    x = int(lines[0].split()[0])\n",
    "    y = int(lines[0].split()[1])\n",
    "    cmds = []\n",
    "\n",
    "    it = iter(lines[1].split())\n",
    "    for e in  it:\n",
    "        cmds.append((e, int(next(it))))\n",
    "\n",
    "    return {\"x\": x, \"y\": y, \"cmds\": cmds}\n",
    "\n",
    "with open(filename) as f:\n",
    "    lines = f.readlines()\n",
    "    data = parse(lines)"
   ]
  },
  {
   "cell_type": "code",
   "execution_count": 38,
   "metadata": {},
   "outputs": [
    {
     "data": {
      "text/plain": [
       "{'x': 0, 'y': 0, 'cmds': [('F', 5), ('T', 1), ('F', 10), ('T', 3), ('F', 2)]}"
      ]
     },
     "execution_count": 38,
     "metadata": {},
     "output_type": "execute_result"
    }
   ],
   "source": [
    "data"
   ]
  },
  {
   "cell_type": "code",
   "execution_count": 63,
   "metadata": {},
   "outputs": [
    {
     "name": "stdout",
     "output_type": "stream",
     "text": [
      "7 10\n"
     ]
    }
   ],
   "source": [
    "import enum\n",
    "\n",
    "class Direction(enum.Enum):\n",
    "    Right = 0\n",
    "    Down = 1\n",
    "    Left = 2\n",
    "    Up = 3\n",
    "    \n",
    "    def turn(self, ntimes=1):\n",
    "        return Direction((self.value + ntimes) % 4)\n",
    "    \n",
    "    def move(self, x, y, ntimes=1):\n",
    "        if self == Direction.Right:\n",
    "            return x + ntimes, y\n",
    "        elif self == Direction.Down:\n",
    "            return x, y + ntimes\n",
    "        elif self == Direction.Left:\n",
    "            return x - ntimes, y\n",
    "        elif self == Direction.Up:\n",
    "            return x, y - ntimes\n",
    "            \n",
    "\n",
    "x, y, d = data[\"x\"], data[\"y\"], Direction.Right\n",
    "for command, ntimes in data[\"cmds\"]:\n",
    "    if command == \"F\":\n",
    "        x, y = d.move(x, y, ntimes)\n",
    "    elif command == \"T\":\n",
    "        d = d.turn(ntimes)\n",
    "\n",
    "print(x, y)"
   ]
  },
  {
   "cell_type": "code",
   "execution_count": null,
   "metadata": {},
   "outputs": [],
   "source": []
  }
 ],
 "metadata": {
  "kernelspec": {
   "display_name": "Python 3",
   "language": "python",
   "name": "python3"
  },
  "language_info": {
   "codemirror_mode": {
    "name": "ipython",
    "version": 3
   },
   "file_extension": ".py",
   "mimetype": "text/x-python",
   "name": "python",
   "nbconvert_exporter": "python",
   "pygments_lexer": "ipython3",
   "version": "3.6.7"
  }
 },
 "nbformat": 4,
 "nbformat_minor": 2
}
